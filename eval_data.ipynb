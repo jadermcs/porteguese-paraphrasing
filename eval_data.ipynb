{
 "cells": [
  {
   "cell_type": "code",
   "execution_count": 14,
   "metadata": {},
   "outputs": [],
   "source": [
    "import matplotlib.pyplot as plt\n",
    "from datasets import Dataset, DatasetDict\n",
    "import pandas as pd\n",
    "import numpy as np\n",
    "import random\n",
    "from tqdm import tqdm\n",
    "from itertools import permutations\n",
    "from eda import eda"
   ]
  },
  {
   "cell_type": "code",
   "execution_count": 15,
   "metadata": {},
   "outputs": [],
   "source": [
    "sample_data = True\n",
    "\n",
    "df = pd.read_csv(\"data/tapaco_en.csv\")\n",
    "df.drop(columns=[\"lists\", \"tags\", \"language\"], inplace=True)\n",
    "df[\"paraphrase\"] = df[\"paraphrase\"].str.lower()\n",
    "if sample_data:\n",
    "  indexes = random.choices(df[\"paraphrase_set_id\"].unique(), k=1000)\n",
    "  df = df[df[\"paraphrase_set_id\"].isin(indexes)]"
   ]
  },
  {
   "cell_type": "code",
   "execution_count": 16,
   "metadata": {},
   "outputs": [],
   "source": [
    "train_indexes = df[df.paraphrase_set_id % 10 != 0].index\n",
    "valid_indexes = df[df.paraphrase_set_id % 10 == 0].index"
   ]
  },
  {
   "cell_type": "code",
   "execution_count": 17,
   "metadata": {},
   "outputs": [],
   "source": [
    "def match_pairs(df, index):\n",
    "    df = df.loc[index]\n",
    "    df.set_index(['paraphrase_set_id', 'sentence_id'], inplace=True)\n",
    "    new_df = []\n",
    "    for id, group in tqdm(df.groupby(level=0)):\n",
    "        for seta, setb in permutations(group['paraphrase'], 2):\n",
    "            new_df.append({'id': id, 'setA':seta, 'setB':setb})\n",
    "    return pd.DataFrame.from_records(new_df)"
   ]
  },
  {
   "cell_type": "code",
   "execution_count": 18,
   "metadata": {},
   "outputs": [
    {
     "name": "stderr",
     "output_type": "stream",
     "text": [
      "100%|██████████| 900/900 [00:00<00:00, 15746.81it/s]\n",
      "100%|██████████| 92/92 [00:00<00:00, 10260.75it/s]\n"
     ]
    }
   ],
   "source": [
    "train_df = match_pairs(df, train_indexes)\n",
    "valid_df = match_pairs(df, valid_indexes)"
   ]
  },
  {
   "cell_type": "code",
   "execution_count": 19,
   "metadata": {},
   "outputs": [],
   "source": [
    "def get_other(df):\n",
    "    df[\"other\"] = None\n",
    "    for index in df.index:\n",
    "        examples = df.sample(1000, replace=True)\n",
    "        i = 0\n",
    "        while df.loc[index, \"other\"] is None:\n",
    "            if df.loc[index, \"id\"] != examples.iloc[i][\"id\"]:\n",
    "                df.loc[index, \"other\"] = examples.iloc[i][\"setB\"]\n",
    "            i += 1\n",
    "    return df"
   ]
  },
  {
   "cell_type": "code",
   "execution_count": 20,
   "metadata": {},
   "outputs": [],
   "source": [
    "train_df = get_other(train_df)\n",
    "valid_df = get_other(valid_df)"
   ]
  },
  {
   "cell_type": "code",
   "execution_count": 38,
   "metadata": {},
   "outputs": [],
   "source": [
    "train = Dataset.from_pandas(train_df, split=\"train\")\n",
    "valid = Dataset.from_pandas(valid_df, split=\"valid\")\n",
    "data = DatasetDict({\"train\": train, \"valid\": valid})"
   ]
  },
  {
   "cell_type": "code",
   "execution_count": 39,
   "metadata": {},
   "outputs": [
    {
     "name": "stdout",
     "output_type": "stream",
     "text": [
      "(578501, \"we can't tell him.\", \"we can't tell her.\", \"tom told mary that he thought john wasn't suspicious.\")\n",
      "(41307, 'we hope to see you again.', 'we hope to meet you again.', \"it isn't hard.\")\n",
      "(39084, 'we long for peace.', 'we are longing for peace.', 'i like this music.')\n",
      "(2328, 'what time is dinner?', 'what time do you usually have lunch?', \"tomorrow morning i'm going hunting. do you want to come with me?\")\n",
      "(2328, 'when is the breakfast served?', \"when's dinner?\", 'even a child knows that.')\n",
      "(205602, 'my brother is very good at playing the guitar.', 'my elder brother plays the guitar very well.', \"you're in the way.\")\n",
      "(809272, \"she says she's done that already.\", \"she says she's already done that.\", 'everyone has been there.')\n",
      "(75825, \"i can't drink coffee as sweet as this.\", 'i am not in a state to drink such sweet coffee.', 'they need that.')\n",
      "(32296, 'i hated tom.', 'i detest tom.', 'i have things i need to do.')\n",
      "(19403, \"i can't permit that.\", \"i can't allow that to happen.\", 'what time do you usually have lunch?')\n"
     ]
    }
   ],
   "source": [
    "for ex in zip(*data[\"train\"].shuffle()[:10].values()):\n",
    "    print(ex)"
   ]
  },
  {
   "cell_type": "code",
   "execution_count": 40,
   "metadata": {},
   "outputs": [],
   "source": [
    "def batched_eda(examples):\n",
    "    return [eda(example, alpha_sr=.0, alpha_rs=.1, alpha_ri=.0, p_rd=.2, num_aug=1)[0] for example in examples]"
   ]
  },
  {
   "cell_type": "code",
   "execution_count": 41,
   "metadata": {},
   "outputs": [],
   "source": [
    "def gen_examples(examples):\n",
    "  result = {\n",
    "      \"setA\": examples[\"setA\"],\n",
    "      \"setB\": examples[\"setB\"],\n",
    "      \"other\": examples[\"other\"],\n",
    "      \"fake\": batched_eda(examples[\"setA\"]) # create fake paraphrasing\n",
    "    }\n",
    "  return result"
   ]
  },
  {
   "cell_type": "code",
   "execution_count": 42,
   "metadata": {},
   "outputs": [
    {
     "name": "stdout",
     "output_type": "stream",
     "text": [
      "              "
     ]
    },
    {
     "data": {
      "application/vnd.jupyter.widget-view+json": {
       "model_id": "d9b3a90ad75345e887706320ad85d32b",
       "version_major": 2,
       "version_minor": 0
      },
      "text/plain": [
       "#1:   0%|          | 0/1 [00:00<?, ?ba/s]"
      ]
     },
     "metadata": {},
     "output_type": "display_data"
    },
    {
     "name": "stdout",
     "output_type": "stream",
     "text": [
      "  "
     ]
    },
    {
     "data": {
      "application/vnd.jupyter.widget-view+json": {
       "model_id": "c79c21d005594431adbd2031c565a01f",
       "version_major": 2,
       "version_minor": 0
      },
      "text/plain": [
       "#0:   0%|          | 0/1 [00:00<?, ?ba/s]"
      ]
     },
     "metadata": {},
     "output_type": "display_data"
    },
    {
     "data": {
      "application/vnd.jupyter.widget-view+json": {
       "model_id": "42d7085453e14118ba7f0fe9658fecf9",
       "version_major": 2,
       "version_minor": 0
      },
      "text/plain": [
       "#2:   0%|          | 0/1 [00:00<?, ?ba/s]"
      ]
     },
     "metadata": {},
     "output_type": "display_data"
    },
    {
     "data": {
      "application/vnd.jupyter.widget-view+json": {
       "model_id": "c4ddbdb79db44fb5bc260098dcae2523",
       "version_major": 2,
       "version_minor": 0
      },
      "text/plain": [
       "#4:   0%|          | 0/1 [00:00<?, ?ba/s]"
      ]
     },
     "metadata": {},
     "output_type": "display_data"
    },
    {
     "data": {
      "application/vnd.jupyter.widget-view+json": {
       "model_id": "09ef0b2c23c94f15af93d6018f804fbd",
       "version_major": 2,
       "version_minor": 0
      },
      "text/plain": [
       "#3:   0%|          | 0/1 [00:00<?, ?ba/s]"
      ]
     },
     "metadata": {},
     "output_type": "display_data"
    },
    {
     "data": {
      "application/vnd.jupyter.widget-view+json": {
       "model_id": "91184a192d384d469e3c3dd026d4b321",
       "version_major": 2,
       "version_minor": 0
      },
      "text/plain": [
       "#6:   0%|          | 0/1 [00:00<?, ?ba/s]"
      ]
     },
     "metadata": {},
     "output_type": "display_data"
    },
    {
     "data": {
      "application/vnd.jupyter.widget-view+json": {
       "model_id": "f6e3ca4a4e294875a08316d9d0d21712",
       "version_major": 2,
       "version_minor": 0
      },
      "text/plain": [
       "#5:   0%|          | 0/1 [00:00<?, ?ba/s]"
      ]
     },
     "metadata": {},
     "output_type": "display_data"
    },
    {
     "data": {
      "application/vnd.jupyter.widget-view+json": {
       "model_id": "d242efb3851c41928ef0e0aac231c201",
       "version_major": 2,
       "version_minor": 0
      },
      "text/plain": [
       "#7:   0%|          | 0/1 [00:00<?, ?ba/s]"
      ]
     },
     "metadata": {},
     "output_type": "display_data"
    },
    {
     "name": "stdout",
     "output_type": "stream",
     "text": [
      "              "
     ]
    },
    {
     "data": {
      "application/vnd.jupyter.widget-view+json": {
       "model_id": "b8daf7870c0044f2af91e12d30b2d6d9",
       "version_major": 2,
       "version_minor": 0
      },
      "text/plain": [
       "#0:   0%|          | 0/1 [00:00<?, ?ba/s]"
      ]
     },
     "metadata": {},
     "output_type": "display_data"
    },
    {
     "name": "stdout",
     "output_type": "stream",
     "text": [
      "  "
     ]
    },
    {
     "data": {
      "application/vnd.jupyter.widget-view+json": {
       "model_id": "6ebc2d147df24bb5b2948c38f1028727",
       "version_major": 2,
       "version_minor": 0
      },
      "text/plain": [
       "#1:   0%|          | 0/1 [00:00<?, ?ba/s]"
      ]
     },
     "metadata": {},
     "output_type": "display_data"
    },
    {
     "data": {
      "application/vnd.jupyter.widget-view+json": {
       "model_id": "cdc3aa8211cb4293ac86b8edbe2aec8a",
       "version_major": 2,
       "version_minor": 0
      },
      "text/plain": [
       "#2:   0%|          | 0/1 [00:00<?, ?ba/s]"
      ]
     },
     "metadata": {},
     "output_type": "display_data"
    },
    {
     "data": {
      "application/vnd.jupyter.widget-view+json": {
       "model_id": "3ce82b3f5c1d40edb88fd2a1f180c261",
       "version_major": 2,
       "version_minor": 0
      },
      "text/plain": [
       "#3:   0%|          | 0/1 [00:00<?, ?ba/s]"
      ]
     },
     "metadata": {},
     "output_type": "display_data"
    },
    {
     "data": {
      "application/vnd.jupyter.widget-view+json": {
       "model_id": "b7bf22a710be426dabbd337ed4e6f626",
       "version_major": 2,
       "version_minor": 0
      },
      "text/plain": [
       "#5:   0%|          | 0/1 [00:00<?, ?ba/s]"
      ]
     },
     "metadata": {},
     "output_type": "display_data"
    },
    {
     "data": {
      "application/vnd.jupyter.widget-view+json": {
       "model_id": "f83c958e4d764686bc86d68fd2250201",
       "version_major": 2,
       "version_minor": 0
      },
      "text/plain": [
       "#7:   0%|          | 0/1 [00:00<?, ?ba/s]"
      ]
     },
     "metadata": {},
     "output_type": "display_data"
    },
    {
     "data": {
      "application/vnd.jupyter.widget-view+json": {
       "model_id": "4a98fc173073423b99827b7b9672253a",
       "version_major": 2,
       "version_minor": 0
      },
      "text/plain": [
       "#4:   0%|          | 0/1 [00:00<?, ?ba/s]"
      ]
     },
     "metadata": {},
     "output_type": "display_data"
    },
    {
     "data": {
      "application/vnd.jupyter.widget-view+json": {
       "model_id": "f11364618d8d48f3a823320409b5a399",
       "version_major": 2,
       "version_minor": 0
      },
      "text/plain": [
       "#6:   0%|          | 0/1 [00:00<?, ?ba/s]"
      ]
     },
     "metadata": {},
     "output_type": "display_data"
    }
   ],
   "source": [
    "data = data.map(\n",
    "    gen_examples,\n",
    "    remove_columns=[\"id\"],\n",
    "    batched=True,\n",
    "    num_proc=8,\n",
    ")"
   ]
  },
  {
   "cell_type": "code",
   "execution_count": 43,
   "metadata": {},
   "outputs": [
    {
     "name": "stdout",
     "output_type": "stream",
     "text": [
      "('tom plays chess better than me.', 'tom is better at chess than i am.', 'he had just arrived.', 'tom plays chess better than me.')\n",
      "('tom is likely to pass the examination.', 'tom will probably pass the examination.', 'he has a hungry look.', 'tom is likely examination. pass the to')\n",
      "('he needs her.', 'you need it.', \"i won't accept this.\", 'her. needs he')\n",
      "(\"i don't like coffee.\", 'i dislike coffee.', 'i heard a knock at the door.', \"i don't like coffee.\")\n",
      "('tom is a buddy of mine.', 'tom is a friend of mine.', 'you seem to be way too busy.', 'tom is a buddy of mine.')\n",
      "('they must love you.', 'he has to be in love with you.', 'why are you waiting in line?', 'they must you.')\n",
      "(\"you'll need it.\", \"you're going to need one.\", 'two people can enter with this ticket.', \"it. need you'll\")\n",
      "('i was a little afraid.', 'i was kind of scared.', 'the weather was awful.', 'i was a little')\n",
      "('at what time do you eat supper?', 'what time should we eat breakfast?', 'you need this.', 'at eat time do you what supper?')\n",
      "('in order to make cold water into hot water, one should heat it up.', 'to turn cold water hot, one needs to heat it.', 'that is the girl whose father is a doctor.', 'in order to make cold into water one should heat it up.')\n"
     ]
    }
   ],
   "source": [
    "for ex in zip(*data[\"train\"].shuffle()[:10].values()):\n",
    "    print(ex)"
   ]
  },
  {
   "cell_type": "code",
   "execution_count": 44,
   "metadata": {},
   "outputs": [],
   "source": [
    "def transform(example):\n",
    "    if random.random() < .5:\n",
    "        if random.random() < .3:\n",
    "            example[\"setB\"] = example[\"other\"]\n",
    "        else:\n",
    "            example[\"setB\"] = example[\"fake\"]\n",
    "        example[\"label\"] = 0\n",
    "    else:\n",
    "        if random.random() < .3:\n",
    "            example[\"setB\"] = example[\"setB\"][:-1]\n",
    "        example[\"label\"] = 1\n",
    "    return example"
   ]
  },
  {
   "cell_type": "code",
   "execution_count": 45,
   "metadata": {},
   "outputs": [
    {
     "data": {
      "application/vnd.jupyter.widget-view+json": {
       "model_id": "402ba125bb7c415185a90d74b622ab5b",
       "version_major": 2,
       "version_minor": 0
      },
      "text/plain": [
       "  0%|          | 0/6018 [00:00<?, ?ex/s]"
      ]
     },
     "metadata": {},
     "output_type": "display_data"
    },
    {
     "data": {
      "application/vnd.jupyter.widget-view+json": {
       "model_id": "728ded50bd0941449ff1b21d3a348db4",
       "version_major": 2,
       "version_minor": 0
      },
      "text/plain": [
       "  0%|          | 0/486 [00:00<?, ?ex/s]"
      ]
     },
     "metadata": {},
     "output_type": "display_data"
    }
   ],
   "source": [
    "data = data.map(\n",
    "    transform,\n",
    "    remove_columns=[\"other\", \"fake\"],\n",
    ")"
   ]
  },
  {
   "cell_type": "code",
   "execution_count": 46,
   "metadata": {},
   "outputs": [
    {
     "data": {
      "text/plain": [
       "{'setA': 'i live near the dike.', 'setB': 'i the near live dike.', 'label': 0}"
      ]
     },
     "execution_count": 46,
     "metadata": {},
     "output_type": "execute_result"
    }
   ],
   "source": [
    "data[\"train\"][0]"
   ]
  },
  {
   "cell_type": "code",
   "execution_count": 61,
   "metadata": {},
   "outputs": [],
   "source": [
    "x1 = []\n",
    "x2 = []\n",
    "for split in [\"train\", \"valid\"]:\n",
    "    for x in data[split]:\n",
    "        if x[\"label\"] == 1 and split == \"train\":\n",
    "            x1.append(len(x[\"setA\"]))\n",
    "        else:\n",
    "            x2.append(len(x[\"setA\"]))"
   ]
  },
  {
   "cell_type": "code",
   "execution_count": 62,
   "metadata": {},
   "outputs": [
    {
     "data": {
      "image/png": "[encoded data removed]",
      "text/plain": [
       "<Figure size 432x288 with 1 Axes>"
      ]
     },
     "metadata": {
      "needs_background": "light"
     },
     "output_type": "display_data"
    }
   ],
   "source": [
    "\n",
    "plt.hist(x1, alpha=.5, bins=100);\n",
    "plt.hist(x2, alpha=.5, bins=100);"
   ]
  },
  {
   "cell_type": "code",
   "execution_count": null,
   "metadata": {},
   "outputs": [],
   "source": []
  }
 ],
 "metadata": {
  "interpreter": {
   "hash": "ebfffb3a24fda823f036facdfb39bf282cbfee0e7ae18fbb3d02881c1a2e41bd"
  },
  "kernelspec": {
   "display_name": "Python 3.8.10 ('venv': venv)",
   "language": "python",
   "name": "python3"
  },
  "language_info": {
   "codemirror_mode": {
    "name": "ipython",
    "version": 3
   },
   "file_extension": ".py",
   "mimetype": "text/x-python",
   "name": "python",
   "nbconvert_exporter": "python",
   "pygments_lexer": "ipython3",
   "version": "3.8.10"
  },
  "orig_nbformat": 4
 },
 "nbformat": 4,
 "nbformat_minor": 2
}
