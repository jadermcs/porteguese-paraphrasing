{
 "cells": [
  {
   "cell_type": "code",
   "execution_count": 2,
   "metadata": {},
   "outputs": [],
   "source": [
    "import matplotlib.pyplot as plt\n",
    "from datasets import Dataset, DatasetDict\n",
    "import pandas as pd\n",
    "import numpy as np\n",
    "import random\n",
    "from tqdm import tqdm\n",
    "from itertools import permutations\n",
    "from utils.eda import eda"
   ]
  },
  {
   "cell_type": "code",
   "execution_count": 66,
   "metadata": {},
   "outputs": [],
   "source": [
    "sample_data = True\n",
    "\n",
    "df = pd.read_csv(\"data/tapaco_en.csv\")\n",
    "df.drop(columns=[\"lists\", \"tags\", \"language\"], inplace=True)\n",
    "df[\"paraphrase\"] = df[\"paraphrase\"].str.lower()\n",
    "if sample_data:\n",
    "  indexes = random.choices(df[\"paraphrase_set_id\"].unique(), k=10000)\n",
    "  df = df[df[\"paraphrase_set_id\"].isin(indexes)]"
   ]
  },
  {
   "cell_type": "code",
   "execution_count": 67,
   "metadata": {},
   "outputs": [],
   "source": [
    "train_indexes = df[df.paraphrase_set_id % 10 != 0].index\n",
    "valid_indexes = df[df.paraphrase_set_id % 10 == 0].index"
   ]
  },
  {
   "cell_type": "code",
   "execution_count": 68,
   "metadata": {},
   "outputs": [],
   "source": [
    "def match_pairs(df, index):\n",
    "    df = df.loc[index]\n",
    "    df.set_index(['paraphrase_set_id', 'sentence_id'], inplace=True)\n",
    "    new_df = []\n",
    "    for id, group in tqdm(df.groupby(level=0)):\n",
    "        for seta, setb in permutations(group['paraphrase'], 2):\n",
    "            new_df.append({'id': id, 'setA':seta, 'setB':setb})\n",
    "    return pd.DataFrame.from_records(new_df)"
   ]
  },
  {
   "cell_type": "code",
   "execution_count": 69,
   "metadata": {},
   "outputs": [
    {
     "name": "stderr",
     "output_type": "stream",
     "text": [
      "100%|██████████| 8302/8302 [00:00<00:00, 15061.35it/s]\n",
      "100%|██████████| 913/913 [00:00<00:00, 15460.95it/s]\n"
     ]
    }
   ],
   "source": [
    "train_df = match_pairs(df, train_indexes)\n",
    "valid_df = match_pairs(df, valid_indexes)"
   ]
  },
  {
   "cell_type": "code",
   "execution_count": 72,
   "metadata": {},
   "outputs": [],
   "source": [
    "def get_other(df):\n",
    "    df[\"other\"] = None\n",
    "    for index in tqdm(df.index):\n",
    "        examples = df.sample(1000, replace=True)\n",
    "        i = 0\n",
    "        while df.loc[index, \"other\"] is None:\n",
    "            if df.loc[index, \"id\"] != examples.iloc[i][\"id\"]:\n",
    "                df.loc[index, \"other\"] = examples.iloc[i][\"setB\"]\n",
    "            i += 1\n",
    "    return df"
   ]
  },
  {
   "cell_type": "code",
   "execution_count": 73,
   "metadata": {},
   "outputs": [
    {
     "name": "stderr",
     "output_type": "stream",
     "text": [
      "100%|██████████| 65820/65820 [00:48<00:00, 1356.93it/s]\n",
      "100%|██████████| 7796/7796 [00:04<00:00, 1726.10it/s]\n"
     ]
    }
   ],
   "source": [
    "train_df = get_other(train_df)\n",
    "valid_df = get_other(valid_df)"
   ]
  },
  {
   "cell_type": "code",
   "execution_count": 74,
   "metadata": {},
   "outputs": [],
   "source": [
    "train = Dataset.from_pandas(train_df, split=\"train\")\n",
    "valid = Dataset.from_pandas(valid_df, split=\"valid\")\n",
    "data = DatasetDict({\"train\": train, \"valid\": valid})"
   ]
  },
  {
   "cell_type": "code",
   "execution_count": 75,
   "metadata": {},
   "outputs": [
    {
     "name": "stdout",
     "output_type": "stream",
     "text": [
      "(356654, 'tom likes football.', 'tom loves football.', 'my grandfather used to love reading.')\n",
      "(13809, \"look out! there's a car coming.\", 'look out for the car.', \"do you have any idea what's going to happen?\")\n",
      "(139958, \"you need to take responsibility for what you've done.\", \"you will have to be responsible for what you've done.\", 'she acknowledged her mistake.')\n",
      "(1963, \"you can't have it both ways.\", 'better a little than nothing.', \"tom is convinced he's right.\")\n",
      "(16475, 'he loves traveling.', 'he loved to travel.', 'what a wonderful view!')\n",
      "(2142, \"it looks like it'll rain today, too.\", 'it might rain.', \"i don't know his name.\")\n",
      "(447, 'you love her.', 'he wants that.', 'tom is all talk.')\n",
      "(1893, \"let's step outside.\", \"let's go outside.\", 'he loves him.')\n",
      "(370497, 'nobody knows who did that.', 'no one knows who did it.', \"i'll go tomorrow if the weather is reasonable.\")\n",
      "(475236, 'tom has been very quiet.', 'tom was very quiet.', 'it may rain.')\n"
     ]
    }
   ],
   "source": [
    "for ex in zip(*data[\"train\"].shuffle()[:10].values()):\n",
    "    print(ex)"
   ]
  },
  {
   "cell_type": "code",
   "execution_count": 76,
   "metadata": {},
   "outputs": [],
   "source": [
    "def batched_eda(examples):\n",
    "    return [eda(example, alpha_sr=.0, alpha_rs=.1, alpha_ri=.0, p_rd=.2, num_aug=1)[0] for example in examples]"
   ]
  },
  {
   "cell_type": "code",
   "execution_count": 77,
   "metadata": {},
   "outputs": [],
   "source": [
    "def gen_examples(examples):\n",
    "  result = {\n",
    "      \"setA\": examples[\"setA\"],\n",
    "      \"setB\": examples[\"setB\"],\n",
    "      \"other\": examples[\"other\"],\n",
    "      \"fake\": batched_eda(examples[\"setA\"]) # create fake paraphrasing\n",
    "    }\n",
    "  return result"
   ]
  },
  {
   "cell_type": "code",
   "execution_count": 78,
   "metadata": {},
   "outputs": [
    {
     "name": "stdout",
     "output_type": "stream",
     "text": [
      "         "
     ]
    },
    {
     "data": {
      "application/vnd.jupyter.widget-view+json": {
       "model_id": "944a142960b442ff9554028b83c294f6",
       "version_major": 2,
       "version_minor": 0
      },
      "text/plain": [
       "#0:   0%|          | 0/9 [00:00<?, ?ba/s]"
      ]
     },
     "metadata": {},
     "output_type": "display_data"
    },
    {
     "name": "stdout",
     "output_type": "stream",
     "text": [
      "  "
     ]
    },
    {
     "data": {
      "application/vnd.jupyter.widget-view+json": {
       "model_id": "78798ffce1a94543af0d9e884d503242",
       "version_major": 2,
       "version_minor": 0
      },
      "text/plain": [
       "#1:   0%|          | 0/9 [00:00<?, ?ba/s]"
      ]
     },
     "metadata": {},
     "output_type": "display_data"
    },
    {
     "name": "stdout",
     "output_type": "stream",
     "text": [
      " "
     ]
    },
    {
     "data": {
      "application/vnd.jupyter.widget-view+json": {
       "model_id": "c48257b73b3c46259cbee95c2c9ece23",
       "version_major": 2,
       "version_minor": 0
      },
      "text/plain": [
       "#2:   0%|          | 0/9 [00:00<?, ?ba/s]"
      ]
     },
     "metadata": {},
     "output_type": "display_data"
    },
    {
     "name": "stdout",
     "output_type": "stream",
     "text": [
      " "
     ]
    },
    {
     "data": {
      "application/vnd.jupyter.widget-view+json": {
       "model_id": "93acea415a6e4d28bf85c6a1175d348a",
       "version_major": 2,
       "version_minor": 0
      },
      "text/plain": [
       "#3:   0%|          | 0/9 [00:00<?, ?ba/s]"
      ]
     },
     "metadata": {},
     "output_type": "display_data"
    },
    {
     "name": "stdout",
     "output_type": "stream",
     "text": [
      " "
     ]
    },
    {
     "data": {
      "application/vnd.jupyter.widget-view+json": {
       "model_id": "59f08e6148ab4accae98efc3a1f81850",
       "version_major": 2,
       "version_minor": 0
      },
      "text/plain": [
       "#4:   0%|          | 0/9 [00:00<?, ?ba/s]"
      ]
     },
     "metadata": {},
     "output_type": "display_data"
    },
    {
     "name": "stdout",
     "output_type": "stream",
     "text": [
      "  "
     ]
    },
    {
     "data": {
      "application/vnd.jupyter.widget-view+json": {
       "model_id": "7f357a3bac054735820bc69a1e52edd9",
       "version_major": 2,
       "version_minor": 0
      },
      "text/plain": [
       "#5:   0%|          | 0/9 [00:00<?, ?ba/s]"
      ]
     },
     "metadata": {},
     "output_type": "display_data"
    },
    {
     "data": {
      "application/vnd.jupyter.widget-view+json": {
       "model_id": "18a32b26cea84bf898fe74e449295333",
       "version_major": 2,
       "version_minor": 0
      },
      "text/plain": [
       "#6:   0%|          | 0/9 [00:00<?, ?ba/s]"
      ]
     },
     "metadata": {},
     "output_type": "display_data"
    },
    {
     "data": {
      "application/vnd.jupyter.widget-view+json": {
       "model_id": "cdbf9614c9cb48788097a530c41b9264",
       "version_major": 2,
       "version_minor": 0
      },
      "text/plain": [
       "#7:   0%|          | 0/9 [00:00<?, ?ba/s]"
      ]
     },
     "metadata": {},
     "output_type": "display_data"
    },
    {
     "name": "stdout",
     "output_type": "stream",
     "text": [
      "            "
     ]
    },
    {
     "data": {
      "application/vnd.jupyter.widget-view+json": {
       "model_id": "783bbdb69399470fa2e9c7c27679b9da",
       "version_major": 2,
       "version_minor": 0
      },
      "text/plain": [
       "#0:   0%|          | 0/1 [00:00<?, ?ba/s]"
      ]
     },
     "metadata": {},
     "output_type": "display_data"
    },
    {
     "name": "stdout",
     "output_type": "stream",
     "text": [
      "   "
     ]
    },
    {
     "data": {
      "application/vnd.jupyter.widget-view+json": {
       "model_id": "6a4ca73bfd604d808d3b840f1ad63971",
       "version_major": 2,
       "version_minor": 0
      },
      "text/plain": [
       "#1:   0%|          | 0/1 [00:00<?, ?ba/s]"
      ]
     },
     "metadata": {},
     "output_type": "display_data"
    },
    {
     "data": {
      "application/vnd.jupyter.widget-view+json": {
       "model_id": "f78886c1abd541d287f91bb4d5afd2ef",
       "version_major": 2,
       "version_minor": 0
      },
      "text/plain": [
       "#2:   0%|          | 0/1 [00:00<?, ?ba/s]"
      ]
     },
     "metadata": {},
     "output_type": "display_data"
    },
    {
     "name": "stdout",
     "output_type": "stream",
     "text": [
      " "
     ]
    },
    {
     "data": {
      "application/vnd.jupyter.widget-view+json": {
       "model_id": "92e86032215e4cb59d6a127c558dab85",
       "version_major": 2,
       "version_minor": 0
      },
      "text/plain": [
       "#4:   0%|          | 0/1 [00:00<?, ?ba/s]"
      ]
     },
     "metadata": {},
     "output_type": "display_data"
    },
    {
     "data": {
      "application/vnd.jupyter.widget-view+json": {
       "model_id": "dc9bd7b2805c452986f01602c6bfced3",
       "version_major": 2,
       "version_minor": 0
      },
      "text/plain": [
       "#3:   0%|          | 0/1 [00:00<?, ?ba/s]"
      ]
     },
     "metadata": {},
     "output_type": "display_data"
    },
    {
     "data": {
      "application/vnd.jupyter.widget-view+json": {
       "model_id": "988767b6e19444e18f98e21a3d76e4e8",
       "version_major": 2,
       "version_minor": 0
      },
      "text/plain": [
       "#5:   0%|          | 0/1 [00:00<?, ?ba/s]"
      ]
     },
     "metadata": {},
     "output_type": "display_data"
    },
    {
     "data": {
      "application/vnd.jupyter.widget-view+json": {
       "model_id": "4a8b62cca7fa4b7bb5b4d44fe09a077a",
       "version_major": 2,
       "version_minor": 0
      },
      "text/plain": [
       "#7:   0%|          | 0/1 [00:00<?, ?ba/s]"
      ]
     },
     "metadata": {},
     "output_type": "display_data"
    },
    {
     "data": {
      "application/vnd.jupyter.widget-view+json": {
       "model_id": "a7519d0d48fb45199974ec47e3ee607b",
       "version_major": 2,
       "version_minor": 0
      },
      "text/plain": [
       "#6:   0%|          | 0/1 [00:00<?, ?ba/s]"
      ]
     },
     "metadata": {},
     "output_type": "display_data"
    }
   ],
   "source": [
    "data = data.map(\n",
    "    gen_examples,\n",
    "    remove_columns=[\"id\"],\n",
    "    batched=True,\n",
    "    num_proc=8,\n",
    ")"
   ]
  },
  {
   "cell_type": "code",
   "execution_count": 79,
   "metadata": {},
   "outputs": [
    {
     "name": "stdout",
     "output_type": "stream",
     "text": [
      "('the police arrested him.', 'did the police arrest him?', 'matters are different now.', 'the police arrested him.')\n",
      "(\"they won't make it.\", \"they'll never make it.\", 'but you have never spoken to me about that!', 'they make it.')\n",
      "('come over here and help me.', 'come here and help.', 'i have complete confidence in you.', 'come over here and help me.')\n",
      "('she punched him in the face.', 'she slapped his face.', 'they looked satisfied with the result.', 'she punched him the')\n",
      "(\"i know you're not scared.\", \"i know you aren't scared.\", 'the gate is open.', \"know you're not scared.\")\n",
      "('it was from her.', 'it was from him.', 'graham greene is a favorite author of mine.', 'it from her.')\n",
      "('we should turn back.', 'we are coming back!', \"i'm fed up with your complaining.\", 'we back.')\n",
      "('i agreed with his plan.', 'i approve of your plan.', 'they captured foxes with snares.', 'i with his plan.')\n",
      "('the higher you fly, the harder you fall.', 'you cannot eat your cake and have it too.', \"we're on our way home.\", 'the you the harder fall.')\n",
      "(\"i'll give it my best shot.\", 'i will do everything in my power.', 'i took a lot of it.', \"i'll it my best shot.\")\n"
     ]
    }
   ],
   "source": [
    "for ex in zip(*data[\"train\"].shuffle()[:10].values()):\n",
    "    print(ex)"
   ]
  },
  {
   "cell_type": "code",
   "execution_count": 80,
   "metadata": {},
   "outputs": [],
   "source": [
    "def jaccard_similarity(x,y):\n",
    "    \"\"\" returns the jaccard similarity between two lists \"\"\"\n",
    "    x = x.split()\n",
    "    y = y.split()\n",
    "    intersection_cardinality = len(set.intersection(*[set(x), set(y)]))\n",
    "    union_cardinality = len(set.union(*[set(x), set(y)]))\n",
    "    return intersection_cardinality/float(union_cardinality)"
   ]
  },
  {
   "cell_type": "code",
   "execution_count": 81,
   "metadata": {},
   "outputs": [],
   "source": [
    "def transform(example):\n",
    "    if random.random() < .5:\n",
    "        if random.random() < .3:\n",
    "            example[\"setB\"] = example[\"other\"]\n",
    "            example[\"labels\"] = -1.5\n",
    "        else:\n",
    "            example[\"setB\"] = example[\"fake\"]\n",
    "            example[\"labels\"] = -.0\n",
    "    else:\n",
    "        if random.random() < .3:\n",
    "            example[\"setB\"] = example[\"setB\"][:-1]\n",
    "        example[\"labels\"] = 1.5 - jaccard_similarity(example[\"setA\"], example[\"setB\"])\n",
    "    return example"
   ]
  },
  {
   "cell_type": "code",
   "execution_count": 82,
   "metadata": {},
   "outputs": [
    {
     "data": {
      "application/vnd.jupyter.widget-view+json": {
       "model_id": "ac2b3c39e24641ecb2a6dcbadfa5b177",
       "version_major": 2,
       "version_minor": 0
      },
      "text/plain": [
       "  0%|          | 0/65820 [00:00<?, ?ex/s]"
      ]
     },
     "metadata": {},
     "output_type": "display_data"
    },
    {
     "data": {
      "application/vnd.jupyter.widget-view+json": {
       "model_id": "49be221028b24e719d17113cf4fe57fb",
       "version_major": 2,
       "version_minor": 0
      },
      "text/plain": [
       "  0%|          | 0/7796 [00:00<?, ?ex/s]"
      ]
     },
     "metadata": {},
     "output_type": "display_data"
    }
   ],
   "source": [
    "data = data.map(\n",
    "    transform,\n",
    "    remove_columns=[\"other\", \"fake\"],\n",
    ")"
   ]
  },
  {
   "cell_type": "code",
   "execution_count": 83,
   "metadata": {},
   "outputs": [
    {
     "data": {
      "text/plain": [
       "{'setA': 'he refused to say more about that.',\n",
       " 'setB': 'she refuses to say more about it',\n",
       " 'labels': 0.6}"
      ]
     },
     "execution_count": 83,
     "metadata": {},
     "output_type": "execute_result"
    }
   ],
   "source": [
    "data[\"train\"][0]"
   ]
  },
  {
   "cell_type": "code",
   "execution_count": 84,
   "metadata": {},
   "outputs": [],
   "source": [
    "df = []\n",
    "for split in [\"train\", \"valid\"]:\n",
    "    for x in data[split]:\n",
    "        if split == \"train\":\n",
    "            df.append({\n",
    "                \"lenA\":len(x[\"setA\"]),\n",
    "                \"lenB\":len(x[\"setB\"]),\n",
    "                \"reward\":x[\"labels\"],\n",
    "                \"split\":split,\n",
    "            })"
   ]
  },
  {
   "cell_type": "code",
   "execution_count": 85,
   "metadata": {},
   "outputs": [],
   "source": [
    "df = pd.DataFrame.from_records(df)"
   ]
  },
  {
   "cell_type": "code",
   "execution_count": 86,
   "metadata": {},
   "outputs": [
    {
     "data": {
      "text/plain": [
       "<AxesSubplot:>"
      ]
     },
     "execution_count": 86,
     "metadata": {},
     "output_type": "execute_result"
    },
    {
     "data": {
      "image/png": "[encoded data removed]",
      "text/plain": [
       "<Figure size 432x288 with 1 Axes>"
      ]
     },
     "metadata": {
      "needs_background": "light"
     },
     "output_type": "display_data"
    }
   ],
   "source": [
    "df.lenA.hist(bins=20, alpha=.5)\n",
    "df.lenB.hist(bins=20, alpha=.5)"
   ]
  },
  {
   "cell_type": "code",
   "execution_count": 87,
   "metadata": {},
   "outputs": [
    {
     "data": {
      "text/html": [
       "<div>\n",
       "<style scoped>\n",
       "    .dataframe tbody tr th:only-of-type {\n",
       "        vertical-align: middle;\n",
       "    }\n",
       "\n",
       "    .dataframe tbody tr th {\n",
       "        vertical-align: top;\n",
       "    }\n",
       "\n",
       "    .dataframe thead th {\n",
       "        text-align: right;\n",
       "    }\n",
       "</style>\n",
       "<table border=\"1\" class=\"dataframe\">\n",
       "  <thead>\n",
       "    <tr style=\"text-align: right;\">\n",
       "      <th></th>\n",
       "      <th>lenA</th>\n",
       "      <th>lenB</th>\n",
       "      <th>reward</th>\n",
       "    </tr>\n",
       "  </thead>\n",
       "  <tbody>\n",
       "    <tr>\n",
       "      <th>count</th>\n",
       "      <td>65820.000000</td>\n",
       "      <td>65820.000000</td>\n",
       "      <td>65820.000000</td>\n",
       "    </tr>\n",
       "    <tr>\n",
       "      <th>mean</th>\n",
       "      <td>25.646293</td>\n",
       "      <td>24.563886</td>\n",
       "      <td>-0.047721</td>\n",
       "    </tr>\n",
       "    <tr>\n",
       "      <th>std</th>\n",
       "      <td>11.005970</td>\n",
       "      <td>10.929771</td>\n",
       "      <td>0.854149</td>\n",
       "    </tr>\n",
       "    <tr>\n",
       "      <th>min</th>\n",
       "      <td>4.000000</td>\n",
       "      <td>1.000000</td>\n",
       "      <td>-1.500000</td>\n",
       "    </tr>\n",
       "    <tr>\n",
       "      <th>25%</th>\n",
       "      <td>19.000000</td>\n",
       "      <td>18.000000</td>\n",
       "      <td>-0.550000</td>\n",
       "    </tr>\n",
       "    <tr>\n",
       "      <th>50%</th>\n",
       "      <td>23.000000</td>\n",
       "      <td>23.000000</td>\n",
       "      <td>0.090909</td>\n",
       "    </tr>\n",
       "    <tr>\n",
       "      <th>75%</th>\n",
       "      <td>30.000000</td>\n",
       "      <td>29.000000</td>\n",
       "      <td>0.777778</td>\n",
       "    </tr>\n",
       "    <tr>\n",
       "      <th>max</th>\n",
       "      <td>352.000000</td>\n",
       "      <td>329.000000</td>\n",
       "      <td>1.000000</td>\n",
       "    </tr>\n",
       "  </tbody>\n",
       "</table>\n",
       "</div>"
      ],
      "text/plain": [
       "               lenA          lenB        reward\n",
       "count  65820.000000  65820.000000  65820.000000\n",
       "mean      25.646293     24.563886     -0.047721\n",
       "std       11.005970     10.929771      0.854149\n",
       "min        4.000000      1.000000     -1.500000\n",
       "25%       19.000000     18.000000     -0.550000\n",
       "50%       23.000000     23.000000      0.090909\n",
       "75%       30.000000     29.000000      0.777778\n",
       "max      352.000000    329.000000      1.000000"
      ]
     },
     "execution_count": 87,
     "metadata": {},
     "output_type": "execute_result"
    }
   ],
   "source": [
    "df.describe()"
   ]
  },
  {
   "cell_type": "code",
   "execution_count": 88,
   "metadata": {},
   "outputs": [
    {
     "data": {
      "text/plain": [
       "<AxesSubplot:>"
      ]
     },
     "execution_count": 88,
     "metadata": {},
     "output_type": "execute_result"
    },
    {
     "data": {
      "image/png": "[encoded data removed]",
      "text/plain": [
       "<Figure size 432x288 with 1 Axes>"
      ]
     },
     "metadata": {
      "needs_background": "light"
     },
     "output_type": "display_data"
    }
   ],
   "source": [
    "df.reward.hist(bins=20);"
   ]
  },
  {
   "cell_type": "code",
   "execution_count": null,
   "metadata": {},
   "outputs": [],
   "source": []
  }
 ],
 "metadata": {
  "interpreter": {
   "hash": "ebfffb3a24fda823f036facdfb39bf282cbfee0e7ae18fbb3d02881c1a2e41bd"
  },
  "kernelspec": {
   "display_name": "Python 3.8.10 ('venv': venv)",
   "language": "python",
   "name": "python3"
  },
  "language_info": {
   "codemirror_mode": {
    "name": "ipython",
    "version": 3
   },
   "file_extension": ".py",
   "mimetype": "text/x-python",
   "name": "python",
   "nbconvert_exporter": "python",
   "pygments_lexer": "ipython3",
   "version": "3.8.10"
  },
  "orig_nbformat": 4
 },
 "nbformat": 4,
 "nbformat_minor": 2
}
